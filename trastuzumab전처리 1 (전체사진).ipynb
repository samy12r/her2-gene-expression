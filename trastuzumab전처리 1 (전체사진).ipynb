{
 "cells": [
  {
   "cell_type": "code",
   "execution_count": 6,
   "id": "13289d77-4d0c-43cc-b443-4e18902b9c4c",
   "metadata": {},
   "outputs": [
    {
     "name": "stdout",
     "output_type": "stream",
     "text": [
      "Requirement already satisfied: lxml in c:\\programdata\\anaconda3\\envs\\hne\\lib\\site-packages (5.4.0)\n",
      "Requirement already satisfied: shapely in c:\\programdata\\anaconda3\\envs\\hne\\lib\\site-packages (2.1.0)\n",
      "Requirement already satisfied: numpy>=1.21 in c:\\programdata\\anaconda3\\envs\\hne\\lib\\site-packages (from shapely) (1.26.3)\n"
     ]
    }
   ],
   "source": [
    "!pip install lxml\n",
    "!pip install shapely\n"
   ]
  },
  {
   "cell_type": "code",
   "execution_count": 7,
   "id": "471f17ca-fc3c-4ec7-b873-b5a5194e93df",
   "metadata": {},
   "outputs": [
    {
     "data": {
      "text/plain": [
       "<AddedDllDirectory('C:\\\\Users\\\\roobe\\\\PKG - HER2 tumor ROIs_v3\\\\openslide-bin-4.0.0.8-windows-x64\\\\bin')>"
      ]
     },
     "execution_count": 7,
     "metadata": {},
     "output_type": "execute_result"
    }
   ],
   "source": [
    "import os\n",
    "import ctypes\n",
    "\n",
    "dll_path = r\"C:\\Users\\roobe\\PKG - HER2 tumor ROIs_v3\\openslide-bin-4.0.0.8-windows-x64\\bin\"\n",
    "os.add_dll_directory(dll_path)  # Python 3.8 이상에서만 사용 가능\n",
    "\n",
    "# 혹은 수동으로 로드 (fallback)\n",
    "# ctypes.WinDLL(os.path.join(dll_path, \"libopenslide-0.dll\"))\n",
    "\n"
   ]
  },
  {
   "cell_type": "markdown",
   "id": "9f913f76-a435-4d96-ac8f-c82d1d2dd63d",
   "metadata": {},
   "source": [
    "## 용량/데이터 확인"
   ]
  },
  {
   "cell_type": "code",
   "execution_count": 11,
   "id": "766aeb95-b825-4356-975a-5656e03d0e35",
   "metadata": {},
   "outputs": [],
   "source": [
    "#용량 부족해서 bach 파일 삭제\n",
    "import shutil\n",
    "import os\n",
    "\n",
    "patches_dir = r\"C:\\users\\roobe\\BACH\\norm\\train\\patches\"\n",
    "# 폴더 내 모든 파일과 폴더 삭제\n",
    "for filename in os.listdir(patches_dir):\n",
    "    file_path = os.path.join(patches_dir, filename)\n",
    "    try:\n",
    "        if os.path.isfile(file_path) or os.path.islink(file_path):\n",
    "            os.unlink(file_path)  # 파일 또는 링크 삭제\n",
    "        elif os.path.isdir(file_path):\n",
    "            shutil.rmtree(file_path)  # 하위 폴더 삭제\n",
    "    except Exception as e:\n",
    "        print(f\"삭제 실패: {file_path}, 이유: {e}\")\n"
   ]
  },
  {
   "cell_type": "code",
   "execution_count": 5,
   "id": "179e0a0b-c030-47fd-b75b-aed14ccf33fa",
   "metadata": {},
   "outputs": [],
   "source": [
    "\n",
    "import shutil\n",
    "import os\n",
    "\n",
    "patches_dir = r\"C:\\Users\\roobe\\PKG - HER2 tumor ROIs_v3\\Yale_HER2_cohort/val/1\"\n",
    "# 폴더 내 모든 파일과 폴더 삭제\n",
    "for filename in os.listdir(patches_dir):\n",
    "    file_path = os.path.join(patches_dir, filename)\n",
    "    try:\n",
    "        if os.path.isfile(file_path) or os.path.islink(file_path):\n",
    "            os.unlink(file_path)  # 파일 또는 링크 삭제\n",
    "        elif os.path.isdir(file_path):\n",
    "            shutil.rmtree(file_path)  # 하위 폴더 삭제\n",
    "    except Exception as e:\n",
    "        print(f\"삭제 실패: {file_path}, 이유: {e}\")"
   ]
  },
  {
   "cell_type": "code",
   "execution_count": 15,
   "id": "4b850167-679c-4638-ad12-3fe551d15568",
   "metadata": {},
   "outputs": [
    {
     "name": "stdout",
     "output_type": "stream",
     "text": [
      "O files: 7\n",
      "S files: 78\n"
     ]
    }
   ],
   "source": [
    "import os\n",
    "\n",
    "files = os.listdir(r\"C:\\Users\\roobe\\PKG - HER2 tumor ROIs_v3\\Yale_trastuzumab_response_cohort\\SVS\")\n",
    "o_files = [f for f in files if f.startswith('O') and f.endswith('.svs')]\n",
    "s_files = [f for f in files if f.startswith('S') and f.endswith('.svs')]\n",
    "\n",
    "print(f\"O files: {len(o_files)}\")\n",
    "print(f\"S files: {len(s_files)}\")\n",
    "#일단 이따 여쭤보께요...엑셀파일 안열리고 섦명에서 양성 36 음성 49라고 했는데 숫자가 이런데 저 s/o를 기준으로 라벨링을 ㅎ도 될까요"
   ]
  },
  {
   "cell_type": "code",
   "execution_count": 2,
   "id": "41ff639d-c02d-4af5-9076-bcd2a9ab93c7",
   "metadata": {},
   "outputs": [
    {
     "name": "stdout",
     "output_type": "stream",
     "text": [
      "      Patient     Responder  Response\n",
      "0   O09-03495  nonresponder  positive\n",
      "1   O10-12717  nonresponder  positive\n",
      "2   O14-02301  nonresponder  positive\n",
      "3   O16-11870     responder  positive\n",
      "4   O16-18464  nonresponder  positive\n",
      "..        ...           ...       ...\n",
      "80  S18-31022     responder  positive\n",
      "81  S18-32412  nonresponder  positive\n",
      "82  S13-07627     responder  positive\n",
      "83  S13-08586  nonresponder  positive\n",
      "84  S18-15441     responder  positive\n",
      "\n",
      "[85 rows x 3 columns]\n"
     ]
    }
   ],
   "source": [
    "import pandas as pd\n",
    "\n",
    "# 엑셀 파일 경로\n",
    "file_path = r'C:\\Users\\roobe\\PKG - HER2 tumor ROIs_v3\\Yale_trastuzumab_response_cohort\\her2.xlsx'\n",
    "\n",
    "# 엑셀 파일 읽기\n",
    "df = pd.read_excel(file_path)\n",
    "\n",
    "# 데이터프레임 출력\n",
    "print(df)"
   ]
  },
  {
   "cell_type": "markdown",
   "id": "a222abb5-d9f0-429e-a4f0-ca576e24f662",
   "metadata": {},
   "source": [
    "## 패치 나누고 라벨 나누기"
   ]
  },
  {
   "cell_type": "code",
   "execution_count": 6,
   "id": "bd56b9fc-606e-48fe-9c3b-1b1dd63d5d3f",
   "metadata": {},
   "outputs": [
    {
     "name": "stdout",
     "output_type": "stream",
     "text": [
      "패치 이동 및 정리 완료!\n"
     ]
    }
   ],
   "source": [
    "#파일에 0가들어가면 patches폴더의 야성, s는 음성 폴더에 저장하기 \n",
    "#패치는 이미 다 나눠놨는데 나눌 때 쓴 코드가  날라가서 없어져버렸어요\n",
    "\n",
    "import random\n",
    "\n",
    "# 전제 설정 (필요한 경우 사용자에 맞게 경로 수정)\n",
    "patch_dir = r\"C:\\Users\\roobe\\PKG - HER2 tumor ROIs_v3\\Yale_trastuzumab_response_cohort\\patches\"\n",
    "output_base = r\"C:\\Users\\roobe\\PKG - HER2 tumor ROIs_v3\\Yale_trastuzumab_response_cohort\\patches\"\n",
    "metadata_path =r'C:\\Users\\roobe\\PKG - HER2 tumor ROIs_v3\\Yale_trastuzumab_response_cohort\\her2.xlsx'\n",
    "\n",
    "# 엑셀 데이터 불러오기\n",
    "df = pd.read_excel(metadata_path)\n",
    "\n",
    "# 환자 목록 분리\n",
    "patients = df['Patient'].unique().tolist()  #한 환자에게서 나온 패치는 train/test중 하나의 폴더에만 전부 들어가 있어야함\n",
    "random.seed(42)\n",
    "random.shuffle(patients) #환자를 엑셀 리스트->파이썬 리스트로 만든 후 순서 섞기\n",
    "split_idx = int(len(patients) * 0.8)\n",
    "train_patients = set(patients[:split_idx])\n",
    "test_patients = set(patients[split_idx:])\n",
    "\n",
    "# 폴더 생성\n",
    "for group in ['train', 'test']:\n",
    "    for label in ['responder', 'nonresponder']: #train/test파일 안에 환자 분리할 파일 이름\n",
    "        os.makedirs(os.path.join(output_base, group, label), exist_ok=True) #라벨 파일 경로 만들기\n",
    "\n",
    "# 전체 패치 파일 목록\n",
    "all_patches = [f for f in os.listdir(patch_dir) if f.endswith('.png')]\n",
    "\n",
    "# 파일 이동\n",
    "for patch in all_patches:\n",
    "    patient_id = patch.split('_')[0] #패치파일이름에서 앞글자 가져와서 환자 이름 지정\n",
    "    if patient_id not in df['Patient'].values:\n",
    "        continue\n",
    "\n",
    "    label = df.loc[df['Patient'] == patient_id, 'Responder'].values[0] #파일 앞에 엑셀시트 환자이름과 같은지 확인/엑셀에서 'Responder' 부분 확인\n",
    "    group = 'train' if patient_id in train_patients else 'test' #앞에 환자 그루 지정하 때 train 에 있었다면 거기에 넣기\n",
    "\n",
    "    src_path = os.path.join(patch_dir, patch)\n",
    "    dst_path = os.path.join(output_base, group, label, patch)\n",
    "\n",
    "    shutil.move(src_path, dst_path)  # 복사 → 이동으로 변경\n",
    "\n",
    "print(\"패치 이동 및 정리 완료!\")\n",
    "\n",
    "#실행 전에 지울꺼 지워야함 \n"
   ]
  },
  {
   "cell_type": "code",
   "execution_count": null,
   "id": "e98ab7f0-31b0-41d0-b609-7dd3419ac1bc",
   "metadata": {},
   "outputs": [],
   "source": [
    "#이거 먼저 코드 돌린 다음에 이 패치 파일 지우고 암조직만 묶어서 다시 패치 나눠야 용량이 가능할것같아용"
   ]
  }
 ],
 "metadata": {
  "kernelspec": {
   "display_name": "Python 3 (ipykernel)",
   "language": "python",
   "name": "python3"
  },
  "language_info": {
   "codemirror_mode": {
    "name": "ipython",
    "version": 3
   },
   "file_extension": ".py",
   "mimetype": "text/x-python",
   "name": "python",
   "nbconvert_exporter": "python",
   "pygments_lexer": "ipython3",
   "version": "3.11.7"
  }
 },
 "nbformat": 4,
 "nbformat_minor": 5
}
