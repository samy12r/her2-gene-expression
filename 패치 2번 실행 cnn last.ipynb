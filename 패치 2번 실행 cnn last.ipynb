{
 "cells": [
  {
   "cell_type": "code",
   "execution_count": 28,
   "id": "b4f631dc-5bbf-4b4b-a5a5-ca612bb67a0f",
   "metadata": {},
   "outputs": [],
   "source": [
    "import os\n",
    "import h5py\n",
    "import torch\n",
    "from torch.utils.data import Dataset,DataLoader\n",
    "import torchvision\n",
    "import torchvision.transforms as transforms\n",
    "from torchvision import datasets,transforms\n",
    "from torchvision.transforms import ToTensor\n",
    "import torch.nn as nn\n",
    "import torch.nn.functional as F\n",
    "import torch.optim as optim\n",
    "import argparse\n",
    "import numpy as np\n",
    "import time\n",
    "from copy import deepcopy # Add Deepcopy for args\n",
    "from PIL import ImageOps\n",
    "\n",
    "import matplotlib.pyplot as plt"
   ]
  },
  {
   "cell_type": "code",
   "execution_count": 32,
   "id": "2edcf1ca-b7cb-437c-a1b9-3540cd73773e",
   "metadata": {},
   "outputs": [
    {
     "name": "stdout",
     "output_type": "stream",
     "text": [
      "클래스 목록: ['nonresponder', 'responder']\n"
     ]
    }
   ],
   "source": [
    "from torchvision import transforms, datasets\n",
    "from torch.utils.data import DataLoader, ConcatDataset\n",
    "\n",
    "train_dir = r\"C:\\Users\\roobe\\PKG - HER2 tumor ROIs_v3\\Yale_trastuzumab_response_cohort\\patches\\train2\"\n",
    "val_dir = r\"C:\\Users\\roobe\\PKG - HER2 tumor ROIs_v3\\Yale_trastuzumab_response_cohort\\patches\\test2\"\n",
    "\n",
    "class HistogramEqualization:\n",
    "    def __call__(self, img):\n",
    "        return ImageOps.equalize(img)  # 이미지 대비를 자동으로 맞춤\n",
    "\n",
    "base_transform = transforms.Compose([\n",
    "    transforms.Resize((224, 224)),       # 크기 조정\n",
    "    transforms.ToTensor(),               # 이미지 -> 텐서\n",
    "    transforms.Normalize([0.5]*3, [0.5]*3)  # 정규화\n",
    "])\n",
    "\n",
    "\n",
    "\n",
    "# 증강 transform\n",
    "aug_transform = transforms.Compose([\n",
    "    HistogramEqualization(),          # Histogram Equalization 먼저 적용->명암 균형 정규화\n",
    "    transforms.ColorJitter(0.2, 0.2, 0.2, 0.1),# 밝기, 대비, 채도, 색조 무작위 조정\n",
    "    transforms.RandomHorizontalFlip(),\n",
    "    transforms.RandomRotation(15),\n",
    "    transforms.Resize((224, 224)),\n",
    "    transforms.ToTensor(),\n",
    "    transforms.Normalize([0.5]*3, [0.5]*3),\n",
    "    transforms.RandomErasing(p=0.3, scale=(0.02, 0.2), ratio=(0.3, 3.3), value='random')  # 확률적 적용\n",
    "])\n",
    "\n",
    "# ImageFolder로 원본 및 증강 데이터셋 생성\n",
    "base_dataset = datasets.ImageFolder(root=train_dir, transform=base_transform)\n",
    "aug_dataset = datasets.ImageFolder(root=train_dir, transform=aug_transform)\n",
    "\n",
    "# 두 데이터셋 합치기 → 이미지 수 2배\n",
    "train_dataset = ConcatDataset([base_dataset] + [aug_dataset]*3) #-> 증강 횟수가 너무 크면 일반화에 오류를 일으킬 수 있다고 해서 5배에서 3배로 변경 \n",
    "\n",
    "# DataLoader 생성\n",
    "train_loader = DataLoader(train_dataset, batch_size=32, shuffle=True)\n",
    "\n",
    "# 검증 데이터셋은 증강 없이\n",
    "val_transform = transforms.Compose([\n",
    "    transforms.Resize((224, 224)),\n",
    "    transforms.ToTensor(),\n",
    "    transforms.Normalize([0.5]*3, [0.5]*3)\n",
    "])\n",
    "val_dataset = datasets.ImageFolder(root=val_dir, transform=val_transform)\n",
    "val_loader = DataLoader(val_dataset, batch_size=32, shuffle=False)\n",
    "\n",
    "# 클래스 확인\n",
    "print(\"클래스 목록:\", base_dataset.classes)"
   ]
  },
  {
   "cell_type": "code",
   "execution_count": 33,
   "id": "76b251b8-8d7f-46ae-9e61-78deb80b2bcf",
   "metadata": {},
   "outputs": [
    {
     "name": "stdout",
     "output_type": "stream",
     "text": [
      "클래스 'nonresponder' 폴더의 이미지 수: 9727\n"
     ]
    }
   ],
   "source": [
    "train =r\"C:\\Users\\roobe\\PKG - HER2 tumor ROIs_v3\\Yale_trastuzumab_response_cohort\\patches\\train2\\nonresponder\"\n",
    "exts = ('.png', '.jpg', '.jpeg')  # 이미지 확장자\n",
    "\n",
    "count = len([f for f in os.listdir(train) if f.lower().endswith(exts)])\n",
    "print(f\"클래스 'nonresponder' 폴더의 이미지 수: {count}\")"
   ]
  },
  {
   "cell_type": "code",
   "execution_count": 34,
   "id": "7c31b055-cc09-4f76-a934-8549be7872f0",
   "metadata": {},
   "outputs": [
    {
     "name": "stdout",
     "output_type": "stream",
     "text": [
      "클래스 'nonresponder' 폴더의 이미지 수: 5801\n"
     ]
    }
   ],
   "source": [
    "train =r\"C:\\Users\\roobe\\PKG - HER2 tumor ROIs_v3\\Yale_trastuzumab_response_cohort\\patches\\train2\\responder\"\n",
    "exts = ('.png', '.jpg', '.jpeg')  # 이미지 확장자\n",
    "\n",
    "count = len([f for f in os.listdir(train) if f.lower().endswith(exts)])\n",
    "print(f\"클래스 'nonresponder' 폴더의 이미지 수: {count}\")"
   ]
  },
  {
   "cell_type": "code",
   "execution_count": 35,
   "id": "d4668186-b95e-4fae-b0f9-ed12f74c4d95",
   "metadata": {},
   "outputs": [
    {
     "name": "stdout",
     "output_type": "stream",
     "text": [
      "전체 데이터 개수: 62112\n"
     ]
    }
   ],
   "source": [
    "print(f\"전체 데이터 개수: {len(train_dataset)}\")"
   ]
  },
  {
   "cell_type": "code",
   "execution_count": 36,
   "id": "180dd67c-2f0e-4e07-b140-0c798682c832",
   "metadata": {},
   "outputs": [
    {
     "name": "stdout",
     "output_type": "stream",
     "text": [
      "Current device is cuda\n"
     ]
    }
   ],
   "source": [
    "# device\n",
    "device = 'cuda' if torch.cuda.is_available() else 'cpu'\n",
    "\n",
    "print('Current device is', device)\n",
    "\n",
    "# for reproducibility\n",
    "torch.manual_seed(2023)\n",
    "if device == 'cuda':\n",
    "    torch.cuda.manual_seed_all(2023)"
   ]
  },
  {
   "cell_type": "code",
   "execution_count": 37,
   "id": "961c0f65-62db-41b9-8688-9031f572f325",
   "metadata": {},
   "outputs": [],
   "source": [
    "import torch\n",
    "import torch.nn as nn\n",
    "\n",
    "class CNN(nn.Module):  #resnet18로 바꿔서도 해보기\n",
    "    def __init__(self):\n",
    "        super(CNN, self).__init__()\n",
    "        \n",
    "        self.layer1 = nn.Sequential(\n",
    "            nn.Conv2d(3, 32, kernel_size=3, stride=2, padding=2),  # (3, 224, 224) -> (32, 113, 113)\n",
    "            nn.BatchNorm2d(32),\n",
    "            nn.ReLU(),\n",
    "            nn.MaxPool2d(kernel_size=2, stride=2)                  # -> (32, 56, 56)\n",
    "        )\n",
    "\n",
    "        self.layer2 = nn.Sequential(\n",
    "            nn.Conv2d(32, 64, kernel_size=3, stride=2, padding=1), # -> (64, 28, 28)\n",
    "            nn.BatchNorm2d(64),\n",
    "            nn.ReLU(),\n",
    "            nn.MaxPool2d(kernel_size=2, stride=2)                  # -> (64, 14, 14)\n",
    "        )\n",
    "\n",
    "        self.dropout = nn.Dropout2d(p=0.5)\n",
    "\n",
    "        self.fc = nn.Linear(64 * 14 * 14, 2)\n",
    "        nn.init.kaiming_normal_(self.fc.weight)\n",
    "\n",
    "    def forward(self, x):\n",
    "        out = self.layer1(x)\n",
    "        out = self.layer2(out)\n",
    "        out = self.dropout(out)\n",
    "        out = out.view(out.size(0), -1)   # flatten\n",
    "        out = self.fc(out)\n",
    "        return out\n"
   ]
  },
  {
   "cell_type": "code",
   "execution_count": 38,
   "id": "1eb00adc-c424-4e00-bc90-8821b416f9b3",
   "metadata": {},
   "outputs": [],
   "source": [
    "learning_rate = 0.0001\n",
    "epochs = 20\n",
    "\n",
    "# 클래스 불균형 가중치 설정 (예: 2번째 클래스에 더 높은 가중치)\n",
    "weights_tensor = torch.tensor([1/9727, 1/5801], dtype=torch.float).to(device)\n",
    "\n",
    "# 손실함수 정의 (가중치 적용)\n",
    "criterion = nn.CrossEntropyLoss(weight=weights_tensor) #변경된 가중치를 불러옴\n",
    "\n",
    "# 옵티마이저 정의 (예: Adam)\n",
    "optimizer = torch.optim.Adam(model.parameters(),lr=learning_rate,weight_decay=1e-4)"
   ]
  },
  {
   "cell_type": "code",
   "execution_count": 39,
   "id": "40b23010-6b07-4614-b3d7-d01fbbb71768",
   "metadata": {},
   "outputs": [],
   "source": [
    "train_batch = len(train_loader)\n",
    "val_batch = len(val_loader)"
   ]
  },
  {
   "cell_type": "code",
   "execution_count": null,
   "id": "2fb7e57d-d4b4-45d2-81d3-ab5f860706cc",
   "metadata": {},
   "outputs": [
    {
     "name": "stdout",
     "output_type": "stream",
     "text": [
      "Learning started.\n",
      "[Epoch  1] loss 0.0610  acc 97.82, val loss 2.1109  val acc 63.47\n",
      "[Epoch  2] loss 0.0572  acc 97.93, val loss 2.3733  val acc 62.94\n",
      "[Epoch  3] loss 0.0546  acc 98.05, val loss 2.1789  val acc 62.66\n",
      "[Epoch  4] loss 0.0550  acc 97.99, val loss 1.7532  val acc 64.42\n",
      "[Epoch  5] loss 0.0476  acc 98.28, val loss 2.7546  val acc 62.41\n"
     ]
    }
   ],
   "source": [
    "from torch.optim.lr_scheduler import ReduceLROnPlateau\n",
    "\n",
    "print('Learning started.')\n",
    "\n",
    "# 스케줄러 정의 (성능 기반 자동 감소)-> \n",
    "scheduler = ReduceLROnPlateau(optimizer, mode='min', factor=0.8, patience=2, verbose=True)\n",
    "\n",
    "train_loss_list = []\n",
    "train_acc_list = []\n",
    "\n",
    "val_loss_list = []\n",
    "val_acc_list = []\n",
    "\n",
    "best_val_loss = 10**9\n",
    "patience_limit = 5\n",
    "patience_check = 0\n",
    "\n",
    "for epoch in range(epochs):\n",
    "    train_loss = 0\n",
    "    correct = 0\n",
    "\n",
    "    model.train()\n",
    "    for X, Y in train_loader:\n",
    "        X = X.to(device)\n",
    "        Y = Y.to(device)\n",
    "\n",
    "        optimizer.zero_grad()\n",
    "        Y_pred = model(X)\n",
    "        loss = criterion(Y_pred, Y)\n",
    "        loss.backward()\n",
    "        optimizer.step()\n",
    "\n",
    "        train_loss += loss / train_batch\n",
    "        correct += (torch.argmax(Y_pred, 1) == Y).sum()\n",
    "\n",
    "    train_acc = (100 * correct / len(train_loader.dataset))\n",
    "    train_acc_list.append(train_acc.item())\n",
    "    train_loss_list.append(train_loss.item())\n",
    "\n",
    "    # validation\n",
    "    model.eval()\n",
    "    with torch.no_grad():\n",
    "        val_loss = 0\n",
    "        correct = 0\n",
    "\n",
    "        for X, Y in val_loader:\n",
    "            X = X.to(device)\n",
    "            Y = Y.to(device)\n",
    "\n",
    "            Y_pred = model(X)\n",
    "            loss = criterion(Y_pred, Y)\n",
    "            val_loss += loss / val_batch\n",
    "            correct += (torch.argmax(Y_pred, 1) == Y).sum()\n",
    "\n",
    "        val_acc = (100 * correct / len(val_loader.dataset))\n",
    "        val_acc_list.append(val_acc.item())\n",
    "        val_loss_list.append(val_loss.item())\n",
    "\n",
    "    # 스케줄러 적용 (val loss 기준)\n",
    "    scheduler.step(val_loss.item())\n",
    "\n",
    "    print(\"[Epoch %2d] loss %.4f  acc %.2f, val loss %.4f  val acc %.2f\"\n",
    "          % (epoch + 1, train_loss, train_acc, val_loss, val_acc))\n",
    "\n",
    "    # Early stopping\n",
    "    if val_loss.item() > best_val_loss:\n",
    "        patience_check += 1\n",
    "        if patience_check >= patience_limit:\n",
    "            print('Early Stopping!')\n",
    "            break\n",
    "    else:\n",
    "        best_val_loss = val_loss.item()\n",
    "        patience_check = 0 \n",
    "\n",
    "print('Learning Finished!')  "
   ]
  },
  {
   "cell_type": "code",
   "execution_count": 26,
   "id": "3b4f0461-4950-4b61-8538-65dabe9f7915",
   "metadata": {},
   "outputs": [
    {
     "data": {
      "image/png": "[encoded data removed]",
      "text/plain": [
       "<Figure size 1400x500 with 2 Axes>"
      ]
     },
     "metadata": {},
     "output_type": "display_data"
    }
   ],
   "source": [
    "plt.figure(figsize=(14, 5))\n",
    "plt.subplot(1,2,1)\n",
    "plt.plot(range(len(train_loss_list)), train_loss_list, range(len(val_loss_list)), val_loss_list)\n",
    "plt.legend(['Training', 'Validation'])\n",
    "plt.title('Loss')\n",
    "plt.subplot(1,2,2)\n",
    "plt.plot(range(len(train_acc_list)), train_acc_list, range(len(val_acc_list)),val_acc_list)\n",
    "plt.legend(['Training', 'Validation'])\n",
    "plt.title('Accuracy')\n",
    "plt.show()"
   ]
  },
  {
   "cell_type": "code",
   "execution_count": 27,
   "id": "8686855c-27f7-4a03-9e5f-5e5635502afa",
   "metadata": {},
   "outputs": [
    {
     "name": "stdout",
     "output_type": "stream",
     "text": [
      "Test set Accuracy: 66.35\n",
      "AUROC (macro avg): 0.7146\n"
     ]
    }
   ],
   "source": [
    "import numpy as np\n",
    "from sklearn.metrics import roc_auc_score\n",
    "import torch.nn.functional as F\n",
    "\n",
    "y_true = []\n",
    "y_score = []\n",
    "\n",
    "with torch.no_grad():\n",
    "    correct = 0\n",
    "\n",
    "    for X, Y in val_loader:\n",
    "        X = X.to(device)\n",
    "        Y = Y.to(device)\n",
    "\n",
    "        Y_pred = model(X)\n",
    "\n",
    "        # accuracy 계산\n",
    "        prediction = torch.argmax(Y_pred, dim=1)\n",
    "        correct += (prediction == Y).sum().item()\n",
    "\n",
    "        # AUROC 계산용 데이터 누적\n",
    "        y_true.extend(Y.cpu().numpy())  # 정답 라벨 누적\n",
    "        prob = F.softmax(Y_pred, dim=1).cpu().numpy()  # 예측 확률 누적\n",
    "        y_score.extend(prob)\n",
    "\n",
    "# 리스트 → numpy 배열 변환\n",
    "y_true = np.array(y_true)  # 이미 클래스 번호 형태면 argmax 불필요\n",
    "y_score = np.array(y_score)\n",
    "\n",
    "# Accuracy 출력\n",
    "accuracy = 100 * correct / len(val_loader.dataset)\n",
    "print('Test set Accuracy: %.2f' % accuracy)\n",
    "\n",
    "# AUROC 출력\n",
    "roc_auc = roc_auc_score(y_true, y_score[:, 1],average='macro') #멀티 어쩌구 옵션은 이진 분류에서는 쓰면 안됨/roc-arc에서 양성을 얼마나 잘 판단하는지 구하므로 positive 클래스에 해당하는 확률만 필요\n",
    "print('AUROC (macro avg): %.4f' % roc_auc)"
   ]
  },
  {
   "cell_type": "code",
   "execution_count": null,
   "id": "8015e55e-5241-4b4b-8f8d-772a3fc379ba",
   "metadata": {},
   "outputs": [],
   "source": []
  }
 ],
 "metadata": {
  "kernelspec": {
   "display_name": "Python 3 (ipykernel)",
   "language": "python",
   "name": "python3"
  },
  "language_info": {
   "codemirror_mode": {
    "name": "ipython",
    "version": 3
   },
   "file_extension": ".py",
   "mimetype": "text/x-python",
   "name": "python",
   "nbconvert_exporter": "python",
   "pygments_lexer": "ipython3",
   "version": "3.11.7"
  }
 },
 "nbformat": 4,
 "nbformat_minor": 5
}
