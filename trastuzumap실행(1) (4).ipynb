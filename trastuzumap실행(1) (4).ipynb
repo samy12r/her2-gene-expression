{
 "cells": [
  {
   "cell_type": "markdown",
   "id": "15064955-593f-477e-9152-9b1643e784cc",
   "metadata": {},
   "source": [
    "## trastuzumap responder/nonresponder 구분하기"
   ]
  },
  {
   "cell_type": "code",
   "execution_count": 83,
   "id": "5ea05f4d-14ff-48ab-8525-4261647752c1",
   "metadata": {},
   "outputs": [
    {
     "name": "stdout",
     "output_type": "stream",
     "text": [
      "클래스 목록: ['nonresponder', 'responder']\n"
     ]
    }
   ],
   "source": [
    "\n",
    "import os\n",
    "import h5py\n",
    "import torch\n",
    "from torch.utils.data import Dataset,DataLoader\n",
    "import torchvision\n",
    "import torchvision.transforms as transforms\n",
    "from torchvision import datasets,transforms\n",
    "from torchvision.transforms import ToTensor\n",
    "import torch.nn as nn\n",
    "import torch.nn.functional as F\n",
    "import torch.optim as optim\n",
    "import argparse\n",
    "import numpy as np\n",
    "import time\n",
    "from copy import deepcopy # Add Deepcopy for args\n",
    "from PIL import ImageOps\n",
    "\n",
    "import matplotlib.pyplot as plt\n",
    "from torchvision import transforms, datasets\n",
    "from torch.utils.data import DataLoader, ConcatDataset\n",
    "\n",
    "train_dir =r\"C:\\Users\\roobe\\PKG - HER2 tumor ROIs_v3\\Yale_trastuzumab_response_cohort\\patches\\train\"\n",
    "val_dir = r\"C:\\Users\\roobe\\PKG - HER2 tumor ROIs_v3\\Yale_trastuzumab_response_cohort\\patches\\test\"\n",
    "\n",
    "class HistogramEqualization:\n",
    "    def __call__(self, img):\n",
    "        return ImageOps.equalize(img)  # 이미지 대비를 자동으로 맞춤\n",
    "\n",
    "base_transform = transforms.Compose([\n",
    "    transforms.Resize((224, 224)),       # 크기 조정\n",
    "    transforms.ToTensor(),               # 이미지 -> 텐서\n",
    "    transforms.Normalize([0.5]*3, [0.5]*3)  # 정규화\n",
    "])\n",
    "train_transform = transforms.Compose([\n",
    "    transforms.Resize((224, 224)),\n",
    "    transforms.RandomApply([\n",
    "        HistogramEqualization(),\n",
    "       # train_transform 내 distortion 줄이기\n",
    "    transforms.ColorJitter(0.1, 0.1, 0.1, 0.05),\n",
    "    transforms.RandomRotation(10),\n",
    "    transforms.RandomAffine(degrees=10, translate=(0.05, 0.05), scale=(0.95, 1.05))\n",
    "# Perspective 제거, 너무 강력함\n",
    "\n",
    "    ]),  # 전체 중 90% 확률로 랜덤 조합 적용\n",
    "    transforms.ToTensor(),\n",
    "    transforms.Normalize([0.5]*3, [0.5]*3)\n",
    "])\n",
    "\n",
    "# ImageFolder로 원본 및 증강 데이터셋 생성\n",
    "base_dataset = datasets.ImageFolder(root=train_dir, transform=base_transform)\n",
    "aug_dataset = datasets.ImageFolder(root=train_dir, transform=aug_transform)\n",
    "\n",
    "# 데이터셋 세개 이어붙ㅇ기 ->6배\n",
    "train_dataset = ConcatDataset([base_dataset] + [aug_dataset]*5)  # aug 5회 반복\n",
    "\n",
    "\n",
    "# DataLoader 생성\n",
    "train_loader = DataLoader(train_dataset, batch_size=16, shuffle=True)\n",
    "\n",
    "# 검증 데이터셋은 증강 없이\n",
    "val_transform = transforms.Compose([\n",
    "    transforms.Resize((224, 224)),\n",
    "    transforms.ToTensor(),\n",
    "    transforms.Normalize([0.5]*3, [0.5]*3)\n",
    "])\n",
    "val_dataset = datasets.ImageFolder(root=val_dir, transform=val_transform)\n",
    "val_loader = DataLoader(val_dataset, batch_size=16, shuffle=False)\n",
    "\n",
    "# 클래스 확인\n",
    "print(\"클래스 목록:\", base_dataset.classes)\n"
   ]
  },
  {
   "cell_type": "code",
   "execution_count": 84,
   "id": "b12c39a9-914f-4250-8590-6b000a5bc0d7",
   "metadata": {},
   "outputs": [
    {
     "name": "stdout",
     "output_type": "stream",
     "text": [
      ".ipynb_checkpoints 폴더 전부 삭제 완료!\n"
     ]
    }
   ],
   "source": [
    "import os\n",
    "import shutil\n",
    "#  train/val 폴더의 경론데 이름 설정이 좀 이상해요\n",
    "train_dir =r\"C:\\Users\\roobe\\PKG - HER2 tumor ROIs_v3\\Yale_trastuzumab_response_cohort\\patches\\train\"\n",
    "val_dir = r\"C:\\Users\\roobe\\PKG - HER2 tumor ROIs_v3\\Yale_trastuzumab_response_cohort\\patches\\test\"\n",
    "# 각 폴더 내부의 .ipynb_checkpoints 폴더 삭제\n",
    "for base_folder in [train_dir, val_dir]:\n",
    "    for root, dirs, files in os.walk(base_folder):\n",
    "        for d in dirs:\n",
    "            if d == \".ipynb_checkpoints\":\n",
    "                full_path = os.path.join(root, d)\n",
    "                print(\"삭제 중:\", full_path)\n",
    "                shutil.rmtree(full_path)\n",
    "\n",
    "print(\".ipynb_checkpoints 폴더 전부 삭제 완료!\")\n",
    "\n",
    " #애는 폴더만 삭제했는데 .ipynb_checkpoints 이걸 클래스로 인식해서 오류났대요"
   ]
  },
  {
   "cell_type": "code",
   "execution_count": 85,
   "id": "68ec7db2-f5f8-4a1e-b415-30e4aebad7f4",
   "metadata": {},
   "outputs": [
    {
     "name": "stdout",
     "output_type": "stream",
     "text": [
      "클래스 'nonresponder' 폴더의 이미지 수: 9876\n"
     ]
    }
   ],
   "source": [
    "train =r\"C:\\Users\\roobe\\PKG - HER2 tumor ROIs_v3\\Yale_trastuzumab_response_cohort\\patches\\train\\nonresponder\"\n",
    "exts = ('.png', '.jpg', '.jpeg')  # 이미지 확장자\n",
    "\n",
    "count = len([f for f in os.listdir(train) if f.lower().endswith(exts)])\n",
    "print(f\"클래스 'nonresponder' 폴더의 이미지 수: {count}\")"
   ]
  },
  {
   "cell_type": "code",
   "execution_count": 86,
   "id": "11bab7d5-e0ec-40e5-b1cd-e4c51d1f2634",
   "metadata": {},
   "outputs": [
    {
     "name": "stdout",
     "output_type": "stream",
     "text": [
      "클래스 'responder' 폴더의 이미지 수: 5886\n"
     ]
    }
   ],
   "source": [
    "train=r\"C:\\Users\\roobe\\PKG - HER2 tumor ROIs_v3\\Yale_trastuzumab_response_cohort\\patches\\train\\responder\"\n",
    "exts = ('.png', '.jpg', '.jpeg')  # 이미지 확장자\n",
    "\n",
    "count = len([f for f in os.listdir(train) if f.lower().endswith(exts)])\n",
    "print(f\"클래스 'responder' 폴더의 이미지 수: {count}\")"
   ]
  },
  {
   "cell_type": "code",
   "execution_count": 87,
   "id": "e8f6954c-c6f3-4109-8344-082c3ac0ced4",
   "metadata": {},
   "outputs": [
    {
     "name": "stdout",
     "output_type": "stream",
     "text": [
      "전체 데이터 개수: 94572\n"
     ]
    }
   ],
   "source": [
    "print(f\"전체 데이터 개수: {len(train_dataset)}\")"
   ]
  },
  {
   "cell_type": "code",
   "execution_count": 88,
   "id": "eed22e16-3c2f-40c8-bdaf-8eceab4440b6",
   "metadata": {},
   "outputs": [
    {
     "name": "stdout",
     "output_type": "stream",
     "text": [
      "클래스별 샘플 수: Counter({0: 9876, 1: 5886})\n"
     ]
    }
   ],
   "source": [
    "from collections import Counter\n",
    "\n",
    "labels = [label for _, label in base_dataset.samples]  # ImageFolder는 (path, label)로 구성됨\n",
    "class_counts = Counter(labels)\n",
    "print(\"클래스별 샘플 수:\", class_counts)\n"
   ]
  },
  {
   "cell_type": "code",
   "execution_count": 97,
   "id": "1d297d5d-7e8f-4d1c-8691-c5f2dd6826ea",
   "metadata": {},
   "outputs": [],
   "source": [
    "class CNN(nn.Module):\n",
    "    def __init__(self):\n",
    "        super(CNN, self).__init__()\n",
    "        # L1 ImgIn shape=(15161, 224, 224, 3)\n",
    "        self.layer1 = torch.nn.Sequential(\n",
    "            nn.Conv2d(3, 32, kernel_size=3, stride=2, padding=2),\n",
    "            nn.ReLU(),\n",
    "            nn.MaxPool2d(kernel_size=2, stride=2))\n",
    "        # L2 ImgIn shape=(?, 32, 56, 56)\n",
    "        self.layer2 = torch.nn.Sequential(\n",
    "            nn.Conv2d(32, 64, 3, stride=2, padding=1),\n",
    "            nn.ReLU(),\n",
    "            nn.MaxPool2d(2, stride=2))\n",
    "        \n",
    "        self.dropout = nn.Dropout2d(p=0.5)  # Dropout 레이어 추가\n",
    "        self.fc = nn.Linear(64*14*14, 4)\n",
    "        nn.init.kaiming_normal_(self.fc.weight)\n",
    "\n",
    "    def forward(self, x):\n",
    "        out = self.layer1(x)\n",
    "        out = self.layer2(out)\n",
    "        out = out.view(out.size(0), -1)   # 여기랑 fc레이어랑 안맞는데요\n",
    "        out = self.fc(out)\n",
    "        return out"
   ]
  },
  {
   "cell_type": "code",
   "execution_count": 98,
   "id": "80af9ee0-5279-4b5d-8d87-efbaa3a3b0e2",
   "metadata": {},
   "outputs": [],
   "source": [
    "learning_rate = 0.0001\n",
    "epochs = 20\n",
    "\n",
    "# 클래스 불균형 가중치 설정 (예: 2번째 클래스에 더 높은 가중치)\n",
    "weights_tensor = torch.tensor([1/9876, 1/5886], dtype=torch.float).to(device)\n",
    "\n",
    "# 손실함수 정의 (가중치 적용)\n",
    "criterion = nn.CrossEntropyLoss(weight=weights_tensor) #변경된 가중치를 불러옴\n",
    "\n",
    "# 옵티마이저 정의 (예: Adam)\n",
    "optimizer = torch.optim.Adam(model.parameters(),lr=learning_rate,weight_decay=1e-4)\n"
   ]
  },
  {
   "cell_type": "code",
   "execution_count": 99,
   "id": "b2ea93d7-3b9d-454c-b133-e4c5c7a8bc85",
   "metadata": {},
   "outputs": [
    {
     "data": {
      "text/plain": [
       "{'nonresponder': 0, 'responder': 1}"
      ]
     },
     "execution_count": 99,
     "metadata": {},
     "output_type": "execute_result"
    }
   ],
   "source": [
    "base_dataset.class_to_idx\n",
    "\n"
   ]
  },
  {
   "cell_type": "code",
   "execution_count": 100,
   "id": "471084e8-5512-464e-af40-c4ac5e6515c7",
   "metadata": {},
   "outputs": [],
   "source": [
    "train_batch = len(train_loader)\n",
    "val_batch = len(val_loader)"
   ]
  },
  {
   "cell_type": "code",
   "execution_count": 101,
   "id": "5b4cf7e3-c679-4511-91a4-6e2f12d6734f",
   "metadata": {
    "scrolled": true
   },
   "outputs": [
    {
     "name": "stdout",
     "output_type": "stream",
     "text": [
      "Learning started.\n",
      "[Epoch  1] loss 0.1654  acc 93.45, val loss 1.3610  val acc 62.54\n",
      "[Epoch  2] loss 0.1303  acc 94.98, val loss 1.8272  val acc 59.61\n",
      "[Epoch  3] loss 0.1130  acc 95.76, val loss 2.7087  val acc 50.78\n",
      "[Epoch  4] loss 0.0952  acc 96.41, val loss 2.0422  val acc 57.67\n",
      "[Epoch  5] loss 0.0868  acc 96.82, val loss 1.6770  val acc 65.10\n",
      "[Epoch  6] loss 0.0768  acc 97.17, val loss 2.6070  val acc 51.79\n",
      "Epoch 00007: reducing learning rate of group 0 to 8.0000e-05.\n",
      "[Epoch  7] loss 0.0730  acc 97.33, val loss 1.8733  val acc 60.51\n",
      "[Epoch  8] loss 0.0534  acc 98.08, val loss 2.3012  val acc 61.91\n",
      "[Epoch  9] loss 0.0483  acc 98.27, val loss 2.8186  val acc 57.94\n",
      "[Epoch 10] loss 0.0468  acc 98.35, val loss 3.0454  val acc 61.25\n",
      "[Epoch 11] loss 0.0441  acc 98.43, val loss 2.2136  val acc 64.96\n",
      "Early Stopping!\n",
      "Learning Finished!\n"
     ]
    }
   ],
   "source": [
    "from torch.optim.lr_scheduler import ReduceLROnPlateau\n",
    "\n",
    "print('Learning started.')\n",
    "\n",
    "# 스케줄러 정의 (성능 기반 자동 감소)-> \n",
    "scheduler = ReduceLROnPlateau(optimizer, mode='min', factor=0.8, patience=5, verbose=True)\n",
    "\n",
    "train_loss_list = []\n",
    "train_acc_list = []\n",
    "\n",
    "val_loss_list = []\n",
    "val_acc_list = []\n",
    "\n",
    "best_val_loss = 10**9\n",
    "patience_limit = 10\n",
    "patience_check = 0\n",
    "\n",
    "for epoch in range(epochs):\n",
    "    train_loss = 0\n",
    "    correct = 0\n",
    "\n",
    "    model.train()\n",
    "    for X, Y in train_loader:\n",
    "        X = X.to(device)\n",
    "        Y = Y.to(device)\n",
    "\n",
    "        optimizer.zero_grad()\n",
    "        Y_pred = model(X)\n",
    "        loss = criterion(Y_pred, Y)\n",
    "        loss.backward()\n",
    "        optimizer.step()\n",
    "\n",
    "        train_loss += loss / train_batch\n",
    "        correct += (torch.argmax(Y_pred, 1) == Y).sum()\n",
    "\n",
    "    train_acc = (100 * correct / len(train_loader.dataset))\n",
    "    train_acc_list.append(train_acc.item())\n",
    "    train_loss_list.append(train_loss.item())\n",
    "\n",
    "    # validation\n",
    "    model.eval()\n",
    "    with torch.no_grad():   \n",
    "        val_loss = 0\n",
    "        correct = 0\n",
    "\n",
    "        for X, Y in val_loader:\n",
    "            X = X.to(device)\n",
    "            Y = Y.to(device)\n",
    "\n",
    "            Y_pred = model(X)\n",
    "            loss = criterion(Y_pred, Y)\n",
    "            val_loss += loss / val_batch\n",
    "            correct += (torch.argmax(Y_pred, 1) == Y).sum()\n",
    "\n",
    "        val_acc = (100 * correct / len(val_loader.dataset))\n",
    "        val_acc_list.append(val_acc.item())\n",
    "        val_loss_list.append(val_loss.item())\n",
    "\n",
    "    # 스케줄러 적용 (val loss 기준)\n",
    "    scheduler.step(val_loss.item())\n",
    "\n",
    "    print(\"[Epoch %2d] loss %.4f  acc %.2f, val loss %.4f  val acc %.2f\"\n",
    "          % (epoch + 1, train_loss, train_acc, val_loss, val_acc))\n",
    "\n",
    "    # Early stopping\n",
    "    if val_loss. item() > best_val_loss:\n",
    "        patience_check += 1\n",
    "        if patience_check >= patience_limit:\n",
    "            print('Early Stopping!')\n",
    "            break\n",
    "    else:\n",
    "        best_val_loss = val_loss.item()\n",
    "        patience_check = 0 \n",
    "\n",
    "print('Learning Finished!')  \n",
    "torch.save(model.state_dict(), 'resnet1.pth') #이번에도 안되면 넘어갈께뇨->이제 진짜 끝끝 더는 안해볼꺼임"
   ]
  },
  {
   "cell_type": "code",
   "execution_count": 102,
   "id": "40312228-ca53-469c-aecc-d50c434655d3",
   "metadata": {},
   "outputs": [
    {
     "data": {
      "image/png": "[encoded data removed]",
      "text/plain": [
       "<Figure size 1400x500 with 2 Axes>"
      ]
     },
     "metadata": {},
     "output_type": "display_data"
    }
   ],
   "source": [
    "plt.figure(figsize=(14, 5))\n",
    "plt.subplot(1,2,1)\n",
    "plt.plot(range(len(train_loss_list)), train_loss_list, range(len(val_loss_list)), val_loss_list)\n",
    "plt.legend(['Training', 'Validation'])\n",
    "plt.title('Loss')\n",
    "plt.subplot(1,2,2)\n",
    "plt.plot(range(len(train_acc_list)), train_acc_list, range(len(val_acc_list)),val_acc_list)\n",
    "plt.legend(['Training', 'Validation'])\n",
    "plt.title('Accuracy')\n",
    "plt.show()"
   ]
  },
  {
   "cell_type": "code",
   "execution_count": 119,
   "id": "1c336291-0f14-4202-ac08-c0a020ffc48f",
   "metadata": {},
   "outputs": [
    {
     "name": "stdout",
     "output_type": "stream",
     "text": [
      "Test set Accuracy: 64.96\n",
      "AUROC (macro avg): 0.6710\n"
     ]
    }
   ],
   "source": [
    "import numpy as np\n",
    "from sklearn.metrics import roc_auc_score\n",
    "import torch.nn.functional as F\n",
    "\n",
    "y_true = []\n",
    "y_score = []\n",
    "\n",
    "with torch.no_grad():\n",
    "    correct = 0\n",
    "\n",
    "    for X, Y in val_loader:\n",
    "        X = X.to(device)\n",
    "        Y = Y.to(device)\n",
    "\n",
    "        Y_pred = model(X)\n",
    "\n",
    "        # accuracy 계산\n",
    "        prediction = torch.argmax(Y_pred, dim=1)\n",
    "        correct += (prediction == Y).sum().item()\n",
    "\n",
    "        # AUROC 계산용 데이터 누적\n",
    "        y_true.extend(Y.cpu().numpy())  # 정답 라벨 누적\n",
    "        prob = F.softmax(Y_pred, dim=1).cpu().numpy()  # 예측 확률 누적\n",
    "        y_score.extend(prob)\n",
    "\n",
    "# 리스트 → numpy 배열 변환\n",
    "y_true = np.array(y_true)  # 이미 클래스 번호 형태면 argmax 불필요\n",
    "y_score = np.array(y_score)\n",
    "\n",
    "# Accuracy 출력\n",
    "accuracy = 100 * correct / len(val_loader.dataset)\n",
    "print('Test set Accuracy: %.2f' % accuracy)\n",
    "\n",
    "# AUROC 출력\n",
    "roc_auc = roc_auc_score(y_true, y_score[:, 1],average='macro') #멀티 어쩌구 옵션은 이진 분류에서는 쓰면 안됨/roc-arc에서 양성을 얼마나 잘 판단하는지 구하므로 positive 클래스에 해당하는 확률만 필요\n",
    "print('AUROC (macro avg): %.4f' % roc_auc)\n"
   ]
  },
  {
   "cell_type": "code",
   "execution_count": 113,
   "id": "9b6c8a37-16bf-498f-98ec-aefc88fc2414",
   "metadata": {},
   "outputs": [
    {
     "name": "stdout",
     "output_type": "stream",
     "text": [
      "<class 'numpy.ndarray'>\n"
     ]
    }
   ],
   "source": [
    "print(type(y_true))"
   ]
  },
  {
   "cell_type": "code",
   "execution_count": 114,
   "id": "0076eadb-9cf2-4d30-8320-a4bd3f6d52d2",
   "metadata": {},
   "outputs": [
    {
     "name": "stdout",
     "output_type": "stream",
     "text": [
      "y_true shape: (3350,)\n"
     ]
    }
   ],
   "source": [
    "print(\"y_true shape:\", y_true.shape)\n"
   ]
  },
  {
   "cell_type": "code",
   "execution_count": 115,
   "id": "bcd69e13-4e58-4eed-88ff-22d1d632d93c",
   "metadata": {},
   "outputs": [
    {
     "name": "stdout",
     "output_type": "stream",
     "text": [
      "(3350, 2)\n"
     ]
    }
   ],
   "source": [
    "print(np.array(y_score).shape)"
   ]
  },
  {
   "cell_type": "code",
   "execution_count": 116,
   "id": "59e8c2ae-4c91-421a-a54a-e5fa84aad6ac",
   "metadata": {},
   "outputs": [
    {
     "name": "stdout",
     "output_type": "stream",
     "text": [
      "[[1.0000000e+00 6.3233729e-09]\n",
      " [1.0000000e+00 2.5478855e-09]\n",
      " [9.6495551e-01 3.5044543e-02]\n",
      " [9.9999893e-01 1.0539865e-06]\n",
      " [9.6801972e-01 3.1980328e-02]]\n"
     ]
    }
   ],
   "source": [
    "print(y_score[:5])\n"
   ]
  },
  {
   "cell_type": "code",
   "execution_count": 117,
   "id": "832ce07f-1c1d-4693-b7a7-da78e49275e6",
   "metadata": {},
   "outputs": [
    {
     "name": "stdout",
     "output_type": "stream",
     "text": [
      "[0 1]\n"
     ]
    }
   ],
   "source": [
    "print(np.unique(y_true))"
   ]
  },
  {
   "cell_type": "code",
   "execution_count": null,
   "id": "c35413fb-1dc7-4e53-9b7c-896249154b0c",
   "metadata": {},
   "outputs": [],
   "source": []
  }
 ],
 "metadata": {
  "kernelspec": {
   "display_name": "Python 3 (ipykernel)",
   "language": "python",
   "name": "python3"
  },
  "language_info": {
   "codemirror_mode": {
    "name": "ipython",
    "version": 3
   },
   "file_extension": ".py",
   "mimetype": "text/x-python",
   "name": "python",
   "nbconvert_exporter": "python",
   "pygments_lexer": "ipython3",
   "version": "3.11.7"
  }
 },
 "nbformat": 4,
 "nbformat_minor": 5
}
